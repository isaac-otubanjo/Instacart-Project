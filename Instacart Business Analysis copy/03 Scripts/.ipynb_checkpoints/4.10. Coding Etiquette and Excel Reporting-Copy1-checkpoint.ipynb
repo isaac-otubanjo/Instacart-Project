{
 "cells": [
  {
   "cell_type": "markdown",
   "id": "a4c0b9f0",
   "metadata": {},
   "source": [
    "# Table of Contents\n"
   ]
  },
  {
   "cell_type": "markdown",
   "id": "dbdcd8c8",
   "metadata": {},
   "source": [
    "### Importing Libraries"
   ]
  },
  {
   "cell_type": "code",
   "execution_count": 1,
   "id": "e27da172",
   "metadata": {},
   "outputs": [],
   "source": [
    "# Importing Libraries\n",
    "\n",
    "import pandas as pd\n",
    "import numpy as np\n",
    "import os\n",
    "import seaborn as sns\n",
    "import matplotlib.pyplot as plt\n",
    "import scipy"
   ]
  },
  {
   "cell_type": "markdown",
   "id": "77c0e594",
   "metadata": {},
   "source": [
    "### Importing Dataframes"
   ]
  },
  {
   "cell_type": "code",
   "execution_count": 2,
   "id": "413643d1",
   "metadata": {},
   "outputs": [],
   "source": [
    "# Define path\n",
    "path = r'/Users/isaacotubanjo/Documents/08:08:2023 Instacart Business Analysis'"
   ]
  },
  {
   "cell_type": "code",
   "execution_count": 3,
   "id": "bda73936",
   "metadata": {},
   "outputs": [],
   "source": [
    "# Import orders_products_customers_merged.pkl as df_merged\n",
    "df_merged = pd.read_pickle(os.path.join(path, '02 Data', 'Prepared Data', 'orders_products_customers_merged.pkl'))"
   ]
  },
  {
   "cell_type": "code",
   "execution_count": 4,
   "id": "d646c750",
   "metadata": {},
   "outputs": [
    {
     "data": {
      "text/html": [
       "<div>\n",
       "<style scoped>\n",
       "    .dataframe tbody tr th:only-of-type {\n",
       "        vertical-align: middle;\n",
       "    }\n",
       "\n",
       "    .dataframe tbody tr th {\n",
       "        vertical-align: top;\n",
       "    }\n",
       "\n",
       "    .dataframe thead th {\n",
       "        text-align: right;\n",
       "    }\n",
       "</style>\n",
       "<table border=\"1\" class=\"dataframe\">\n",
       "  <thead>\n",
       "    <tr style=\"text-align: right;\">\n",
       "      <th></th>\n",
       "      <th>order_id</th>\n",
       "      <th>user_id</th>\n",
       "      <th>order_number</th>\n",
       "      <th>order_day_of_week</th>\n",
       "      <th>order_hour_of_day</th>\n",
       "      <th>days_since_last_order</th>\n",
       "      <th>product_id</th>\n",
       "      <th>add_to_cart_order</th>\n",
       "      <th>reordered</th>\n",
       "      <th>product_name</th>\n",
       "      <th>...</th>\n",
       "      <th>order_frequency_flag</th>\n",
       "      <th>First Name</th>\n",
       "      <th>Last Name</th>\n",
       "      <th>Gender</th>\n",
       "      <th>State</th>\n",
       "      <th>Age</th>\n",
       "      <th>Date Joined</th>\n",
       "      <th>No of dependants</th>\n",
       "      <th>Marital Status</th>\n",
       "      <th>Income</th>\n",
       "    </tr>\n",
       "  </thead>\n",
       "  <tbody>\n",
       "    <tr>\n",
       "      <th>0</th>\n",
       "      <td>2539329</td>\n",
       "      <td>1</td>\n",
       "      <td>1</td>\n",
       "      <td>2</td>\n",
       "      <td>8</td>\n",
       "      <td>0.0</td>\n",
       "      <td>196</td>\n",
       "      <td>1</td>\n",
       "      <td>0</td>\n",
       "      <td>Soda</td>\n",
       "      <td>...</td>\n",
       "      <td>Non-frequent customer</td>\n",
       "      <td>Linda</td>\n",
       "      <td>Nguyen</td>\n",
       "      <td>Female</td>\n",
       "      <td>Alabama</td>\n",
       "      <td>31</td>\n",
       "      <td>2/17/2019</td>\n",
       "      <td>3</td>\n",
       "      <td>married</td>\n",
       "      <td>40423</td>\n",
       "    </tr>\n",
       "    <tr>\n",
       "      <th>1</th>\n",
       "      <td>2398795</td>\n",
       "      <td>1</td>\n",
       "      <td>2</td>\n",
       "      <td>3</td>\n",
       "      <td>7</td>\n",
       "      <td>15.0</td>\n",
       "      <td>196</td>\n",
       "      <td>1</td>\n",
       "      <td>1</td>\n",
       "      <td>Soda</td>\n",
       "      <td>...</td>\n",
       "      <td>Non-frequent customer</td>\n",
       "      <td>Linda</td>\n",
       "      <td>Nguyen</td>\n",
       "      <td>Female</td>\n",
       "      <td>Alabama</td>\n",
       "      <td>31</td>\n",
       "      <td>2/17/2019</td>\n",
       "      <td>3</td>\n",
       "      <td>married</td>\n",
       "      <td>40423</td>\n",
       "    </tr>\n",
       "    <tr>\n",
       "      <th>2</th>\n",
       "      <td>473747</td>\n",
       "      <td>1</td>\n",
       "      <td>3</td>\n",
       "      <td>3</td>\n",
       "      <td>12</td>\n",
       "      <td>21.0</td>\n",
       "      <td>196</td>\n",
       "      <td>1</td>\n",
       "      <td>1</td>\n",
       "      <td>Soda</td>\n",
       "      <td>...</td>\n",
       "      <td>Non-frequent customer</td>\n",
       "      <td>Linda</td>\n",
       "      <td>Nguyen</td>\n",
       "      <td>Female</td>\n",
       "      <td>Alabama</td>\n",
       "      <td>31</td>\n",
       "      <td>2/17/2019</td>\n",
       "      <td>3</td>\n",
       "      <td>married</td>\n",
       "      <td>40423</td>\n",
       "    </tr>\n",
       "    <tr>\n",
       "      <th>3</th>\n",
       "      <td>2254736</td>\n",
       "      <td>1</td>\n",
       "      <td>4</td>\n",
       "      <td>4</td>\n",
       "      <td>7</td>\n",
       "      <td>29.0</td>\n",
       "      <td>196</td>\n",
       "      <td>1</td>\n",
       "      <td>1</td>\n",
       "      <td>Soda</td>\n",
       "      <td>...</td>\n",
       "      <td>Non-frequent customer</td>\n",
       "      <td>Linda</td>\n",
       "      <td>Nguyen</td>\n",
       "      <td>Female</td>\n",
       "      <td>Alabama</td>\n",
       "      <td>31</td>\n",
       "      <td>2/17/2019</td>\n",
       "      <td>3</td>\n",
       "      <td>married</td>\n",
       "      <td>40423</td>\n",
       "    </tr>\n",
       "    <tr>\n",
       "      <th>4</th>\n",
       "      <td>431534</td>\n",
       "      <td>1</td>\n",
       "      <td>5</td>\n",
       "      <td>4</td>\n",
       "      <td>15</td>\n",
       "      <td>28.0</td>\n",
       "      <td>196</td>\n",
       "      <td>1</td>\n",
       "      <td>1</td>\n",
       "      <td>Soda</td>\n",
       "      <td>...</td>\n",
       "      <td>Non-frequent customer</td>\n",
       "      <td>Linda</td>\n",
       "      <td>Nguyen</td>\n",
       "      <td>Female</td>\n",
       "      <td>Alabama</td>\n",
       "      <td>31</td>\n",
       "      <td>2/17/2019</td>\n",
       "      <td>3</td>\n",
       "      <td>married</td>\n",
       "      <td>40423</td>\n",
       "    </tr>\n",
       "  </tbody>\n",
       "</table>\n",
       "<p>5 rows × 32 columns</p>\n",
       "</div>"
      ],
      "text/plain": [
       "   order_id  user_id  order_number  order_day_of_week  order_hour_of_day  \\\n",
       "0   2539329        1             1                  2                  8   \n",
       "1   2398795        1             2                  3                  7   \n",
       "2    473747        1             3                  3                 12   \n",
       "3   2254736        1             4                  4                  7   \n",
       "4    431534        1             5                  4                 15   \n",
       "\n",
       "   days_since_last_order  product_id  add_to_cart_order  reordered  \\\n",
       "0                    0.0         196                  1          0   \n",
       "1                   15.0         196                  1          1   \n",
       "2                   21.0         196                  1          1   \n",
       "3                   29.0         196                  1          1   \n",
       "4                   28.0         196                  1          1   \n",
       "\n",
       "  product_name  ...   order_frequency_flag  First Name  Last Name  Gender  \\\n",
       "0         Soda  ...  Non-frequent customer       Linda     Nguyen  Female   \n",
       "1         Soda  ...  Non-frequent customer       Linda     Nguyen  Female   \n",
       "2         Soda  ...  Non-frequent customer       Linda     Nguyen  Female   \n",
       "3         Soda  ...  Non-frequent customer       Linda     Nguyen  Female   \n",
       "4         Soda  ...  Non-frequent customer       Linda     Nguyen  Female   \n",
       "\n",
       "     State Age Date Joined  No of dependants Marital Status  Income  \n",
       "0  Alabama  31   2/17/2019                 3        married   40423  \n",
       "1  Alabama  31   2/17/2019                 3        married   40423  \n",
       "2  Alabama  31   2/17/2019                 3        married   40423  \n",
       "3  Alabama  31   2/17/2019                 3        married   40423  \n",
       "4  Alabama  31   2/17/2019                 3        married   40423  \n",
       "\n",
       "[5 rows x 32 columns]"
      ]
     },
     "execution_count": 4,
     "metadata": {},
     "output_type": "execute_result"
    }
   ],
   "source": [
    "# Checking the dataframe's consistency\n",
    "df_merged.head()"
   ]
  },
  {
   "cell_type": "code",
   "execution_count": 5,
   "id": "49ba9535",
   "metadata": {},
   "outputs": [
    {
     "data": {
      "text/plain": [
       "(32404859, 32)"
      ]
     },
     "execution_count": 5,
     "metadata": {},
     "output_type": "execute_result"
    }
   ],
   "source": [
    "df_merged.shape"
   ]
  },
  {
   "cell_type": "code",
   "execution_count": 6,
   "id": "732c1833",
   "metadata": {},
   "outputs": [
    {
     "name": "stdout",
     "output_type": "stream",
     "text": [
      "<class 'pandas.core.frame.DataFrame'>\n",
      "Int64Index: 32404859 entries, 0 to 32404858\n",
      "Data columns (total 32 columns):\n",
      " #   Column                 Dtype  \n",
      "---  ------                 -----  \n",
      " 0   order_id               int64  \n",
      " 1   user_id                int64  \n",
      " 2   order_number           int64  \n",
      " 3   order_day_of_week      int64  \n",
      " 4   order_hour_of_day      int64  \n",
      " 5   days_since_last_order  float64\n",
      " 6   product_id             int64  \n",
      " 7   add_to_cart_order      int64  \n",
      " 8   reordered              int64  \n",
      " 9   product_name           object \n",
      " 10  aisle_id               int64  \n",
      " 11  department_id          int64  \n",
      " 12  prices                 float64\n",
      " 13  price_range_loc        object \n",
      " 14  busiest_day_of_week    object \n",
      " 15  busiest_days           object \n",
      " 16  busiest_period_of_day  object \n",
      " 17  max_order              int64  \n",
      " 18  loyalty_flag           object \n",
      " 19  avg_price              float64\n",
      " 20  spending_flag          object \n",
      " 21  median_days            float64\n",
      " 22  order_frequency_flag   object \n",
      " 23  First Name             object \n",
      " 24  Last Name              object \n",
      " 25  Gender                 object \n",
      " 26  State                  object \n",
      " 27  Age                    int64  \n",
      " 28  Date Joined            object \n",
      " 29  No of dependants       int64  \n",
      " 30  Marital Status         object \n",
      " 31  Income                 int64  \n",
      "dtypes: float64(4), int64(14), object(14)\n",
      "memory usage: 8.0+ GB\n"
     ]
    }
   ],
   "source": [
    "df_merged.info()"
   ]
  },
  {
   "cell_type": "markdown",
   "id": "9f4bc6aa",
   "metadata": {},
   "source": [
    "### Considering Security Implications"
   ]
  },
  {
   "cell_type": "markdown",
   "id": "b4ec3936",
   "metadata": {},
   "source": [
    "Looking at the info for the dataframe, we can see that there are columns that contain PII (personally identifiable information). The columns include the First Name and Last Name column. It would be advisable to drop these columns as they are not relevant to our final Analysis."
   ]
  },
  {
   "cell_type": "code",
   "execution_count": 7,
   "id": "f7c66b74",
   "metadata": {},
   "outputs": [],
   "source": [
    "df_merged = df_merged.drop(columns = ['First Name', 'Last Name'])"
   ]
  },
  {
   "cell_type": "code",
   "execution_count": 8,
   "id": "c408b7b7",
   "metadata": {},
   "outputs": [
    {
     "data": {
      "text/plain": [
       "Index(['order_id', 'user_id', 'order_number', 'order_day_of_week',\n",
       "       'order_hour_of_day', 'days_since_last_order', 'product_id',\n",
       "       'add_to_cart_order', 'reordered', 'product_name', 'aisle_id',\n",
       "       'department_id', 'prices', 'price_range_loc', 'busiest_day_of_week',\n",
       "       'busiest_days', 'busiest_period_of_day', 'max_order', 'loyalty_flag',\n",
       "       'avg_price', 'spending_flag', 'median_days', 'order_frequency_flag',\n",
       "       'Gender', 'State', 'Age', 'Date Joined', 'No of dependants',\n",
       "       'Marital Status', 'Income'],\n",
       "      dtype='object')"
      ]
     },
     "execution_count": 8,
     "metadata": {},
     "output_type": "execute_result"
    }
   ],
   "source": [
    "# Verifying results\n",
    "df_merged.columns"
   ]
  },
  {
   "cell_type": "code",
   "execution_count": 9,
   "id": "70e66531",
   "metadata": {},
   "outputs": [
    {
     "data": {
      "text/plain": [
       "(32404859, 30)"
      ]
     },
     "execution_count": 9,
     "metadata": {},
     "output_type": "execute_result"
    }
   ],
   "source": [
    "df_merged.shape"
   ]
  },
  {
   "cell_type": "markdown",
   "id": "2bc5f601",
   "metadata": {},
   "source": [
    "### Comparing Customer Behavior in Different Regions"
   ]
  },
  {
   "cell_type": "code",
   "execution_count": 10,
   "id": "0fd589e8",
   "metadata": {},
   "outputs": [],
   "source": [
    "# Defining Regions\n",
    "Region=[]\n",
    "for value in df_merged['State']:\n",
    "    if value in ['Maine','New Hampshire','Vermont','Massachusetts','Rhode Island','Connecticut','New York','Pennsylvania','New Jersey']:\n",
    "        Region.append('Northeast')\n",
    "    elif value in ['Wisconsin','Michigan','Illinois','Indiana','Ohio','North Dakota','South Dakota','Nebraska','Kansas','Minnesota','Iowa','Missouri']:\n",
    "        Region.append('Midwest')\n",
    "    elif value in ['Delaware','Maryland','District of Columbia','Virginia','West Virginia','North Carolina','South Carolina','Georgia','Florida','Kentucky','Tennessee','Mississippi','Alabama','Oklahoma','Texas','Arkansas','Louisiana']:\n",
    "        Region.append('South')\n",
    "    else:\n",
    "        Region.append('West')"
   ]
  },
  {
   "cell_type": "code",
   "execution_count": 11,
   "id": "1736e0e7",
   "metadata": {},
   "outputs": [],
   "source": [
    "# Create a new column containing the regions\n",
    "df_merged['Region'] = Region"
   ]
  },
  {
   "cell_type": "code",
   "execution_count": 12,
   "id": "21800796",
   "metadata": {},
   "outputs": [
    {
     "data": {
      "text/html": [
       "<div>\n",
       "<style scoped>\n",
       "    .dataframe tbody tr th:only-of-type {\n",
       "        vertical-align: middle;\n",
       "    }\n",
       "\n",
       "    .dataframe tbody tr th {\n",
       "        vertical-align: top;\n",
       "    }\n",
       "\n",
       "    .dataframe thead th {\n",
       "        text-align: right;\n",
       "    }\n",
       "</style>\n",
       "<table border=\"1\" class=\"dataframe\">\n",
       "  <thead>\n",
       "    <tr style=\"text-align: right;\">\n",
       "      <th></th>\n",
       "      <th>order_id</th>\n",
       "      <th>user_id</th>\n",
       "      <th>order_number</th>\n",
       "      <th>order_day_of_week</th>\n",
       "      <th>order_hour_of_day</th>\n",
       "      <th>days_since_last_order</th>\n",
       "      <th>product_id</th>\n",
       "      <th>add_to_cart_order</th>\n",
       "      <th>reordered</th>\n",
       "      <th>product_name</th>\n",
       "      <th>...</th>\n",
       "      <th>median_days</th>\n",
       "      <th>order_frequency_flag</th>\n",
       "      <th>Gender</th>\n",
       "      <th>State</th>\n",
       "      <th>Age</th>\n",
       "      <th>Date Joined</th>\n",
       "      <th>No of dependants</th>\n",
       "      <th>Marital Status</th>\n",
       "      <th>Income</th>\n",
       "      <th>Region</th>\n",
       "    </tr>\n",
       "  </thead>\n",
       "  <tbody>\n",
       "    <tr>\n",
       "      <th>0</th>\n",
       "      <td>2539329</td>\n",
       "      <td>1</td>\n",
       "      <td>1</td>\n",
       "      <td>2</td>\n",
       "      <td>8</td>\n",
       "      <td>0.0</td>\n",
       "      <td>196</td>\n",
       "      <td>1</td>\n",
       "      <td>0</td>\n",
       "      <td>Soda</td>\n",
       "      <td>...</td>\n",
       "      <td>20.5</td>\n",
       "      <td>Non-frequent customer</td>\n",
       "      <td>Female</td>\n",
       "      <td>Alabama</td>\n",
       "      <td>31</td>\n",
       "      <td>2/17/2019</td>\n",
       "      <td>3</td>\n",
       "      <td>married</td>\n",
       "      <td>40423</td>\n",
       "      <td>South</td>\n",
       "    </tr>\n",
       "    <tr>\n",
       "      <th>1</th>\n",
       "      <td>2398795</td>\n",
       "      <td>1</td>\n",
       "      <td>2</td>\n",
       "      <td>3</td>\n",
       "      <td>7</td>\n",
       "      <td>15.0</td>\n",
       "      <td>196</td>\n",
       "      <td>1</td>\n",
       "      <td>1</td>\n",
       "      <td>Soda</td>\n",
       "      <td>...</td>\n",
       "      <td>20.5</td>\n",
       "      <td>Non-frequent customer</td>\n",
       "      <td>Female</td>\n",
       "      <td>Alabama</td>\n",
       "      <td>31</td>\n",
       "      <td>2/17/2019</td>\n",
       "      <td>3</td>\n",
       "      <td>married</td>\n",
       "      <td>40423</td>\n",
       "      <td>South</td>\n",
       "    </tr>\n",
       "    <tr>\n",
       "      <th>2</th>\n",
       "      <td>473747</td>\n",
       "      <td>1</td>\n",
       "      <td>3</td>\n",
       "      <td>3</td>\n",
       "      <td>12</td>\n",
       "      <td>21.0</td>\n",
       "      <td>196</td>\n",
       "      <td>1</td>\n",
       "      <td>1</td>\n",
       "      <td>Soda</td>\n",
       "      <td>...</td>\n",
       "      <td>20.5</td>\n",
       "      <td>Non-frequent customer</td>\n",
       "      <td>Female</td>\n",
       "      <td>Alabama</td>\n",
       "      <td>31</td>\n",
       "      <td>2/17/2019</td>\n",
       "      <td>3</td>\n",
       "      <td>married</td>\n",
       "      <td>40423</td>\n",
       "      <td>South</td>\n",
       "    </tr>\n",
       "    <tr>\n",
       "      <th>3</th>\n",
       "      <td>2254736</td>\n",
       "      <td>1</td>\n",
       "      <td>4</td>\n",
       "      <td>4</td>\n",
       "      <td>7</td>\n",
       "      <td>29.0</td>\n",
       "      <td>196</td>\n",
       "      <td>1</td>\n",
       "      <td>1</td>\n",
       "      <td>Soda</td>\n",
       "      <td>...</td>\n",
       "      <td>20.5</td>\n",
       "      <td>Non-frequent customer</td>\n",
       "      <td>Female</td>\n",
       "      <td>Alabama</td>\n",
       "      <td>31</td>\n",
       "      <td>2/17/2019</td>\n",
       "      <td>3</td>\n",
       "      <td>married</td>\n",
       "      <td>40423</td>\n",
       "      <td>South</td>\n",
       "    </tr>\n",
       "    <tr>\n",
       "      <th>4</th>\n",
       "      <td>431534</td>\n",
       "      <td>1</td>\n",
       "      <td>5</td>\n",
       "      <td>4</td>\n",
       "      <td>15</td>\n",
       "      <td>28.0</td>\n",
       "      <td>196</td>\n",
       "      <td>1</td>\n",
       "      <td>1</td>\n",
       "      <td>Soda</td>\n",
       "      <td>...</td>\n",
       "      <td>20.5</td>\n",
       "      <td>Non-frequent customer</td>\n",
       "      <td>Female</td>\n",
       "      <td>Alabama</td>\n",
       "      <td>31</td>\n",
       "      <td>2/17/2019</td>\n",
       "      <td>3</td>\n",
       "      <td>married</td>\n",
       "      <td>40423</td>\n",
       "      <td>South</td>\n",
       "    </tr>\n",
       "  </tbody>\n",
       "</table>\n",
       "<p>5 rows × 31 columns</p>\n",
       "</div>"
      ],
      "text/plain": [
       "   order_id  user_id  order_number  order_day_of_week  order_hour_of_day  \\\n",
       "0   2539329        1             1                  2                  8   \n",
       "1   2398795        1             2                  3                  7   \n",
       "2    473747        1             3                  3                 12   \n",
       "3   2254736        1             4                  4                  7   \n",
       "4    431534        1             5                  4                 15   \n",
       "\n",
       "   days_since_last_order  product_id  add_to_cart_order  reordered  \\\n",
       "0                    0.0         196                  1          0   \n",
       "1                   15.0         196                  1          1   \n",
       "2                   21.0         196                  1          1   \n",
       "3                   29.0         196                  1          1   \n",
       "4                   28.0         196                  1          1   \n",
       "\n",
       "  product_name  ...  median_days   order_frequency_flag  Gender    State Age  \\\n",
       "0         Soda  ...         20.5  Non-frequent customer  Female  Alabama  31   \n",
       "1         Soda  ...         20.5  Non-frequent customer  Female  Alabama  31   \n",
       "2         Soda  ...         20.5  Non-frequent customer  Female  Alabama  31   \n",
       "3         Soda  ...         20.5  Non-frequent customer  Female  Alabama  31   \n",
       "4         Soda  ...         20.5  Non-frequent customer  Female  Alabama  31   \n",
       "\n",
       "  Date Joined No of dependants  Marital Status Income  Region  \n",
       "0   2/17/2019                3         married  40423   South  \n",
       "1   2/17/2019                3         married  40423   South  \n",
       "2   2/17/2019                3         married  40423   South  \n",
       "3   2/17/2019                3         married  40423   South  \n",
       "4   2/17/2019                3         married  40423   South  \n",
       "\n",
       "[5 rows x 31 columns]"
      ]
     },
     "execution_count": 12,
     "metadata": {},
     "output_type": "execute_result"
    }
   ],
   "source": [
    "# Verifying results\n",
    "df_merged.head()"
   ]
  },
  {
   "cell_type": "code",
   "execution_count": 13,
   "id": "352ae3c9",
   "metadata": {},
   "outputs": [
    {
     "data": {
      "text/plain": [
       "South        10791885\n",
       "West          8292913\n",
       "Midwest       7597325\n",
       "Northeast     5722736\n",
       "Name: Region, dtype: int64"
      ]
     },
     "execution_count": 13,
     "metadata": {},
     "output_type": "execute_result"
    }
   ],
   "source": [
    "df_merged['Region'].value_counts(dropna = False)"
   ]
  },
  {
   "cell_type": "code",
   "execution_count": 14,
   "id": "6c3e940b",
   "metadata": {},
   "outputs": [],
   "source": [
    "# Crossing the variable with the spending flag\n",
    "spend_habit = pd.crosstab(df_merged['Region'], df_merged['spending_flag'],dropna = False)"
   ]
  },
  {
   "cell_type": "code",
   "execution_count": 15,
   "id": "5b121973",
   "metadata": {},
   "outputs": [
    {
     "data": {
      "text/plain": [
       "Text(0.5, 1.0, 'Spending Habit Per Region')"
      ]
     },
     "execution_count": 15,
     "metadata": {},
     "output_type": "execute_result"
    },
    {
     "data": {
      "image/png": "[encoded data removed]",
      "text/plain": [
       "<Figure size 640x480 with 1 Axes>"
      ]
     },
     "metadata": {},
     "output_type": "display_data"
    }
   ],
   "source": [
    "# Plotting a bar chart with both variables\n",
    "bar_spend_habit = spend_habit.plot.bar()\n",
    "plt.title('Spending Habit Per Region')"
   ]
  },
  {
   "cell_type": "markdown",
   "id": "e9b12938",
   "metadata": {},
   "source": [
    "The ratio of high to low spenders seem to be consistent across all regions indicating that Instacart has more low spenders than high spenders. Also there are more high and low spenders overall in the South than other regions."
   ]
  },
  {
   "cell_type": "code",
   "execution_count": 16,
   "id": "fde93e7d",
   "metadata": {},
   "outputs": [],
   "source": [
    "# Exporting bar chart\n",
    "bar_spend_habit.figure.savefig(os.path.join(path, '04 Analysis','Visualizations', 'Spending Habit Per Region.png'))"
   ]
  },
  {
   "cell_type": "markdown",
   "id": "8f204cfc",
   "metadata": {},
   "source": [
    "### Creating an Exclusion Flag for Low Activity Customers"
   ]
  },
  {
   "cell_type": "code",
   "execution_count": 17,
   "id": "d8e07633",
   "metadata": {},
   "outputs": [
    {
     "data": {
      "text/plain": [
       "99    1171333\n",
       "8      811843\n",
       "6      811396\n",
       "9      810213\n",
       "7      803979\n",
       "       ...   \n",
       "97      44949\n",
       "98      44587\n",
       "96      40453\n",
       "2           6\n",
       "1           5\n",
       "Name: max_order, Length: 99, dtype: int64"
      ]
     },
     "execution_count": 17,
     "metadata": {},
     "output_type": "execute_result"
    }
   ],
   "source": [
    "# The max_order column already includes information on customers with low activity\n",
    "df_merged['max_order'].value_counts(dropna = False)"
   ]
  },
  {
   "cell_type": "code",
   "execution_count": 18,
   "id": "bf18c68b",
   "metadata": {},
   "outputs": [],
   "source": [
    "# Creating a new column for customer activity\n",
    "df_merged.loc[df_merged['max_order'] >= 5, 'customer_activity'] = 'High activity customer'"
   ]
  },
  {
   "cell_type": "code",
   "execution_count": 19,
   "id": "4f6ca61f",
   "metadata": {},
   "outputs": [],
   "source": [
    "df_merged.loc[df_merged['max_order'] < 5, 'customer_activity'] = 'Low activity customer'"
   ]
  },
  {
   "cell_type": "code",
   "execution_count": 20,
   "id": "d470fcfe",
   "metadata": {},
   "outputs": [
    {
     "data": {
      "text/plain": [
       "High activity customer    30964564\n",
       "Low activity customer      1440295\n",
       "Name: customer_activity, dtype: int64"
      ]
     },
     "execution_count": 20,
     "metadata": {},
     "output_type": "execute_result"
    }
   ],
   "source": [
    "# Verifying results\n",
    "df_merged['customer_activity'].value_counts(dropna = False)"
   ]
  },
  {
   "cell_type": "markdown",
   "id": "7531b241",
   "metadata": {},
   "source": [
    "Next, we need to exclude the low activity group from the dataframe and export."
   ]
  },
  {
   "cell_type": "code",
   "execution_count": 21,
   "id": "9996ef43",
   "metadata": {},
   "outputs": [],
   "source": [
    "df_low_activity = df_merged.loc[df_merged['customer_activity'] == 'Low activity customer']"
   ]
  },
  {
   "cell_type": "code",
   "execution_count": 22,
   "id": "83cb9adc",
   "metadata": {},
   "outputs": [],
   "source": [
    "# Exporting the new dataframe\n",
    "df_low_activity.to_pickle(os.path.join(path, '02 Data', 'Prepared Data', 'low_activity_customers.pkl'))"
   ]
  },
  {
   "cell_type": "markdown",
   "id": "844cc3e2",
   "metadata": {},
   "source": [
    "Dataframe for low activity customers has been exported."
   ]
  },
  {
   "cell_type": "code",
   "execution_count": 23,
   "id": "09245432",
   "metadata": {},
   "outputs": [],
   "source": [
    "# Excluding it from the df_merged dataframe\n",
    "df_merged = df_merged.loc[df_merged['customer_activity'] == 'High activity customer']"
   ]
  },
  {
   "cell_type": "code",
   "execution_count": 24,
   "id": "6115fdc7",
   "metadata": {},
   "outputs": [
    {
     "data": {
      "text/plain": [
       "(30964564, 32)"
      ]
     },
     "execution_count": 24,
     "metadata": {},
     "output_type": "execute_result"
    }
   ],
   "source": [
    "# Verifying results\n",
    "df_merged.shape"
   ]
  },
  {
   "cell_type": "code",
   "execution_count": 25,
   "id": "a213f324",
   "metadata": {},
   "outputs": [
    {
     "data": {
      "text/plain": [
       "High activity customer    30964564\n",
       "Name: customer_activity, dtype: int64"
      ]
     },
     "execution_count": 25,
     "metadata": {},
     "output_type": "execute_result"
    }
   ],
   "source": [
    "df_merged['customer_activity'].value_counts(dropna = False)"
   ]
  },
  {
   "cell_type": "markdown",
   "id": "01885652",
   "metadata": {},
   "source": [
    "### Creating Profiling Variables"
   ]
  },
  {
   "cell_type": "code",
   "execution_count": 26,
   "id": "71987681",
   "metadata": {},
   "outputs": [
    {
     "data": {
      "text/plain": [
       "79    508337\n",
       "49    507879\n",
       "48    506730\n",
       "31    506218\n",
       "64    504832\n",
       "       ...  \n",
       "60    461897\n",
       "36    460649\n",
       "66    454604\n",
       "41    451269\n",
       "25    449324\n",
       "Name: Age, Length: 64, dtype: int64"
      ]
     },
     "execution_count": 26,
     "metadata": {},
     "output_type": "execute_result"
    }
   ],
   "source": [
    "# For Age\n",
    "df_merged['Age'].value_counts(dropna = False)"
   ]
  },
  {
   "cell_type": "code",
   "execution_count": 27,
   "id": "757d832a",
   "metadata": {},
   "outputs": [
    {
     "data": {
      "text/plain": [
       "array([31, 69, 62, 71, 38, 41, 64, 66, 49, 60, 30, 67, 51, 50, 76, 24, 70,\n",
       "       26, 22, 75, 61, 27, 58, 63, 81, 78, 32, 77, 55, 52, 39, 18, 56, 21,\n",
       "       34, 54, 79, 73, 19, 23, 68, 44, 42, 80, 57, 37, 40, 29, 45, 20, 25,\n",
       "       33, 65, 36, 59, 46, 43, 28, 74, 47, 35, 53, 72, 48])"
      ]
     },
     "execution_count": 27,
     "metadata": {},
     "output_type": "execute_result"
    }
   ],
   "source": [
    "df_merged.Age.unique()"
   ]
  },
  {
   "cell_type": "markdown",
   "id": "6b88e647",
   "metadata": {},
   "source": [
    "There are 64 unique values in the Age column. This would be divided into 3 categories: Young Adult, Middle Aged Adult and Old Adult."
   ]
  },
  {
   "cell_type": "code",
   "execution_count": 28,
   "id": "e4e427b1",
   "metadata": {},
   "outputs": [],
   "source": [
    "# Creating age flags for the 3 categories\n",
    "df_merged.loc[df_merged['Age'] >= 40 & (df_merged['Age'] < 60), 'Age_category'] = 'Middle_aged_adult'"
   ]
  },
  {
   "cell_type": "code",
   "execution_count": 29,
   "id": "61d2ec9a",
   "metadata": {},
   "outputs": [],
   "source": [
    "df_merged.loc[df_merged['Age'] >= 60, 'Age_category'] = 'Old_adult'"
   ]
  },
  {
   "cell_type": "code",
   "execution_count": 30,
   "id": "55195ed7",
   "metadata": {},
   "outputs": [],
   "source": [
    "df_merged.loc[df_merged['Age'] < 40, 'Age_category'] = 'Young_adult'"
   ]
  },
  {
   "cell_type": "code",
   "execution_count": 31,
   "id": "14f68b73",
   "metadata": {},
   "outputs": [
    {
     "data": {
      "text/plain": [
       "Young_adult          10665110\n",
       "Old_adult            10574504\n",
       "Middle_aged_adult     9724950\n",
       "Name: Age_category, dtype: int64"
      ]
     },
     "execution_count": 31,
     "metadata": {},
     "output_type": "execute_result"
    }
   ],
   "source": [
    "# Verifying results\n",
    "df_merged['Age_category'].value_counts(dropna = False)"
   ]
  },
  {
   "cell_type": "markdown",
   "id": "040c8e92",
   "metadata": {},
   "source": [
    "All customers have been grouped based on age."
   ]
  },
  {
   "cell_type": "code",
   "execution_count": 32,
   "id": "61939548",
   "metadata": {},
   "outputs": [
    {
     "data": {
      "text/plain": [
       "Text(0.5, 1.0, 'Income Distribution')"
      ]
     },
     "execution_count": 32,
     "metadata": {},
     "output_type": "execute_result"
    },
    {
     "data": {
      "image/png": "[encoded data removed]",
      "text/plain": [
       "<Figure size 640x480 with 1 Axes>"
      ]
     },
     "metadata": {},
     "output_type": "display_data"
    }
   ],
   "source": [
    "# For income, we can create a visualization to check the distribution\n",
    "income_dis = df_merged['Income'].plot.hist(bins = 20)\n",
    "plt.xlabel(\"Income\")\n",
    "plt.title(\"Income Distribution\")"
   ]
  },
  {
   "cell_type": "code",
   "execution_count": 33,
   "id": "f3a834d1",
   "metadata": {},
   "outputs": [],
   "source": [
    "# Exporting histogram\n",
    "income_dis.figure.savefig(os.path.join(path, '04 Analysis','Visualizations', 'Income Distribution.png'))"
   ]
  },
  {
   "cell_type": "markdown",
   "id": "abda410e",
   "metadata": {},
   "source": [
    "Using Statista.com, we can grade the incomes into 3 categories:\n",
    "Low income (under 49,999), Median income (50,000 to 149,999) and High income (over 149,999)."
   ]
  },
  {
   "cell_type": "code",
   "execution_count": 34,
   "id": "043d9bf3",
   "metadata": {},
   "outputs": [],
   "source": [
    "# Creating income flags for the 3 categories\n",
    "df_merged.loc[df_merged['Income'] >= 50000 & (df_merged['Income'] < 149999), 'income_category'] = 'Median_income'"
   ]
  },
  {
   "cell_type": "code",
   "execution_count": 35,
   "id": "3ef3dbff",
   "metadata": {},
   "outputs": [],
   "source": [
    "df_merged.loc[df_merged['Income'] >= 149999, 'income_category'] = 'High_income'"
   ]
  },
  {
   "cell_type": "code",
   "execution_count": 36,
   "id": "dff59963",
   "metadata": {},
   "outputs": [],
   "source": [
    "df_merged.loc[df_merged['Income'] <= 49999, 'income_category'] = 'Low-income'"
   ]
  },
  {
   "cell_type": "code",
   "execution_count": 37,
   "id": "92528583",
   "metadata": {},
   "outputs": [
    {
     "data": {
      "text/plain": [
       "Median_income    23706437\n",
       "High_income       3895573\n",
       "Low-income        3362554\n",
       "Name: income_category, dtype: int64"
      ]
     },
     "execution_count": 37,
     "metadata": {},
     "output_type": "execute_result"
    }
   ],
   "source": [
    "# Verifying results\n",
    "df_merged['income_category'].value_counts(dropna = False)"
   ]
  },
  {
   "cell_type": "markdown",
   "id": "ef8e979e",
   "metadata": {},
   "source": [
    "All customers have been grouped based on income"
   ]
  },
  {
   "cell_type": "code",
   "execution_count": 38,
   "id": "5f9ecdd7",
   "metadata": {},
   "outputs": [],
   "source": [
    "# For goods in the department column, we need to import the department dataframe\n",
    "df_dept = pd.read_csv(os.path.join(path,'02 Data','Prepared Data','departments_wrangled.csv'),index_col = False)"
   ]
  },
  {
   "cell_type": "code",
   "execution_count": 39,
   "id": "01ca72e5",
   "metadata": {},
   "outputs": [
    {
     "data": {
      "text/html": [
       "<div>\n",
       "<style scoped>\n",
       "    .dataframe tbody tr th:only-of-type {\n",
       "        vertical-align: middle;\n",
       "    }\n",
       "\n",
       "    .dataframe tbody tr th {\n",
       "        vertical-align: top;\n",
       "    }\n",
       "\n",
       "    .dataframe thead th {\n",
       "        text-align: right;\n",
       "    }\n",
       "</style>\n",
       "<table border=\"1\" class=\"dataframe\">\n",
       "  <thead>\n",
       "    <tr style=\"text-align: right;\">\n",
       "      <th></th>\n",
       "      <th>Unnamed: 0</th>\n",
       "      <th>department</th>\n",
       "    </tr>\n",
       "  </thead>\n",
       "  <tbody>\n",
       "    <tr>\n",
       "      <th>0</th>\n",
       "      <td>1</td>\n",
       "      <td>frozen</td>\n",
       "    </tr>\n",
       "    <tr>\n",
       "      <th>1</th>\n",
       "      <td>2</td>\n",
       "      <td>other</td>\n",
       "    </tr>\n",
       "    <tr>\n",
       "      <th>2</th>\n",
       "      <td>3</td>\n",
       "      <td>bakery</td>\n",
       "    </tr>\n",
       "    <tr>\n",
       "      <th>3</th>\n",
       "      <td>4</td>\n",
       "      <td>produce</td>\n",
       "    </tr>\n",
       "    <tr>\n",
       "      <th>4</th>\n",
       "      <td>5</td>\n",
       "      <td>alcohol</td>\n",
       "    </tr>\n",
       "  </tbody>\n",
       "</table>\n",
       "</div>"
      ],
      "text/plain": [
       "   Unnamed: 0 department\n",
       "0           1     frozen\n",
       "1           2      other\n",
       "2           3     bakery\n",
       "3           4    produce\n",
       "4           5    alcohol"
      ]
     },
     "execution_count": 39,
     "metadata": {},
     "output_type": "execute_result"
    }
   ],
   "source": [
    "df_dept.head()"
   ]
  },
  {
   "cell_type": "code",
   "execution_count": 40,
   "id": "d9385ad1",
   "metadata": {},
   "outputs": [],
   "source": [
    "# Renaming the \"Unnamed: 0\" column\n",
    "\n",
    "df_dept.rename(columns={'Unnamed: 0':'department_id'}, inplace=True)"
   ]
  },
  {
   "cell_type": "code",
   "execution_count": 41,
   "id": "d14c07de",
   "metadata": {},
   "outputs": [
    {
     "data": {
      "text/html": [
       "<div>\n",
       "<style scoped>\n",
       "    .dataframe tbody tr th:only-of-type {\n",
       "        vertical-align: middle;\n",
       "    }\n",
       "\n",
       "    .dataframe tbody tr th {\n",
       "        vertical-align: top;\n",
       "    }\n",
       "\n",
       "    .dataframe thead th {\n",
       "        text-align: right;\n",
       "    }\n",
       "</style>\n",
       "<table border=\"1\" class=\"dataframe\">\n",
       "  <thead>\n",
       "    <tr style=\"text-align: right;\">\n",
       "      <th></th>\n",
       "      <th>department_id</th>\n",
       "      <th>department</th>\n",
       "    </tr>\n",
       "  </thead>\n",
       "  <tbody>\n",
       "    <tr>\n",
       "      <th>0</th>\n",
       "      <td>1</td>\n",
       "      <td>frozen</td>\n",
       "    </tr>\n",
       "    <tr>\n",
       "      <th>1</th>\n",
       "      <td>2</td>\n",
       "      <td>other</td>\n",
       "    </tr>\n",
       "    <tr>\n",
       "      <th>2</th>\n",
       "      <td>3</td>\n",
       "      <td>bakery</td>\n",
       "    </tr>\n",
       "    <tr>\n",
       "      <th>3</th>\n",
       "      <td>4</td>\n",
       "      <td>produce</td>\n",
       "    </tr>\n",
       "    <tr>\n",
       "      <th>4</th>\n",
       "      <td>5</td>\n",
       "      <td>alcohol</td>\n",
       "    </tr>\n",
       "  </tbody>\n",
       "</table>\n",
       "</div>"
      ],
      "text/plain": [
       "   department_id department\n",
       "0              1     frozen\n",
       "1              2      other\n",
       "2              3     bakery\n",
       "3              4    produce\n",
       "4              5    alcohol"
      ]
     },
     "execution_count": 41,
     "metadata": {},
     "output_type": "execute_result"
    }
   ],
   "source": [
    "# Verifying result\n",
    "df_dept.head()"
   ]
  },
  {
   "cell_type": "code",
   "execution_count": 42,
   "id": "81b09e7d",
   "metadata": {},
   "outputs": [],
   "source": [
    "# Merge with the df_merged dataframe on department_id\n",
    "df_merged_2 = df_merged.merge(df_dept, on = 'department_id')"
   ]
  },
  {
   "cell_type": "code",
   "execution_count": 43,
   "id": "2b818ba9",
   "metadata": {},
   "outputs": [
    {
     "data": {
      "text/html": [
       "<div>\n",
       "<style scoped>\n",
       "    .dataframe tbody tr th:only-of-type {\n",
       "        vertical-align: middle;\n",
       "    }\n",
       "\n",
       "    .dataframe tbody tr th {\n",
       "        vertical-align: top;\n",
       "    }\n",
       "\n",
       "    .dataframe thead th {\n",
       "        text-align: right;\n",
       "    }\n",
       "</style>\n",
       "<table border=\"1\" class=\"dataframe\">\n",
       "  <thead>\n",
       "    <tr style=\"text-align: right;\">\n",
       "      <th></th>\n",
       "      <th>order_id</th>\n",
       "      <th>user_id</th>\n",
       "      <th>order_number</th>\n",
       "      <th>order_day_of_week</th>\n",
       "      <th>order_hour_of_day</th>\n",
       "      <th>days_since_last_order</th>\n",
       "      <th>product_id</th>\n",
       "      <th>add_to_cart_order</th>\n",
       "      <th>reordered</th>\n",
       "      <th>product_name</th>\n",
       "      <th>...</th>\n",
       "      <th>Age</th>\n",
       "      <th>Date Joined</th>\n",
       "      <th>No of dependants</th>\n",
       "      <th>Marital Status</th>\n",
       "      <th>Income</th>\n",
       "      <th>Region</th>\n",
       "      <th>customer_activity</th>\n",
       "      <th>Age_category</th>\n",
       "      <th>income_category</th>\n",
       "      <th>department</th>\n",
       "    </tr>\n",
       "  </thead>\n",
       "  <tbody>\n",
       "    <tr>\n",
       "      <th>0</th>\n",
       "      <td>2539329</td>\n",
       "      <td>1</td>\n",
       "      <td>1</td>\n",
       "      <td>2</td>\n",
       "      <td>8</td>\n",
       "      <td>0.0</td>\n",
       "      <td>196</td>\n",
       "      <td>1</td>\n",
       "      <td>0</td>\n",
       "      <td>Soda</td>\n",
       "      <td>...</td>\n",
       "      <td>31</td>\n",
       "      <td>2/17/2019</td>\n",
       "      <td>3</td>\n",
       "      <td>married</td>\n",
       "      <td>40423</td>\n",
       "      <td>South</td>\n",
       "      <td>High activity customer</td>\n",
       "      <td>Young_adult</td>\n",
       "      <td>Low-income</td>\n",
       "      <td>beverages</td>\n",
       "    </tr>\n",
       "    <tr>\n",
       "      <th>1</th>\n",
       "      <td>2398795</td>\n",
       "      <td>1</td>\n",
       "      <td>2</td>\n",
       "      <td>3</td>\n",
       "      <td>7</td>\n",
       "      <td>15.0</td>\n",
       "      <td>196</td>\n",
       "      <td>1</td>\n",
       "      <td>1</td>\n",
       "      <td>Soda</td>\n",
       "      <td>...</td>\n",
       "      <td>31</td>\n",
       "      <td>2/17/2019</td>\n",
       "      <td>3</td>\n",
       "      <td>married</td>\n",
       "      <td>40423</td>\n",
       "      <td>South</td>\n",
       "      <td>High activity customer</td>\n",
       "      <td>Young_adult</td>\n",
       "      <td>Low-income</td>\n",
       "      <td>beverages</td>\n",
       "    </tr>\n",
       "    <tr>\n",
       "      <th>2</th>\n",
       "      <td>473747</td>\n",
       "      <td>1</td>\n",
       "      <td>3</td>\n",
       "      <td>3</td>\n",
       "      <td>12</td>\n",
       "      <td>21.0</td>\n",
       "      <td>196</td>\n",
       "      <td>1</td>\n",
       "      <td>1</td>\n",
       "      <td>Soda</td>\n",
       "      <td>...</td>\n",
       "      <td>31</td>\n",
       "      <td>2/17/2019</td>\n",
       "      <td>3</td>\n",
       "      <td>married</td>\n",
       "      <td>40423</td>\n",
       "      <td>South</td>\n",
       "      <td>High activity customer</td>\n",
       "      <td>Young_adult</td>\n",
       "      <td>Low-income</td>\n",
       "      <td>beverages</td>\n",
       "    </tr>\n",
       "    <tr>\n",
       "      <th>3</th>\n",
       "      <td>2254736</td>\n",
       "      <td>1</td>\n",
       "      <td>4</td>\n",
       "      <td>4</td>\n",
       "      <td>7</td>\n",
       "      <td>29.0</td>\n",
       "      <td>196</td>\n",
       "      <td>1</td>\n",
       "      <td>1</td>\n",
       "      <td>Soda</td>\n",
       "      <td>...</td>\n",
       "      <td>31</td>\n",
       "      <td>2/17/2019</td>\n",
       "      <td>3</td>\n",
       "      <td>married</td>\n",
       "      <td>40423</td>\n",
       "      <td>South</td>\n",
       "      <td>High activity customer</td>\n",
       "      <td>Young_adult</td>\n",
       "      <td>Low-income</td>\n",
       "      <td>beverages</td>\n",
       "    </tr>\n",
       "    <tr>\n",
       "      <th>4</th>\n",
       "      <td>431534</td>\n",
       "      <td>1</td>\n",
       "      <td>5</td>\n",
       "      <td>4</td>\n",
       "      <td>15</td>\n",
       "      <td>28.0</td>\n",
       "      <td>196</td>\n",
       "      <td>1</td>\n",
       "      <td>1</td>\n",
       "      <td>Soda</td>\n",
       "      <td>...</td>\n",
       "      <td>31</td>\n",
       "      <td>2/17/2019</td>\n",
       "      <td>3</td>\n",
       "      <td>married</td>\n",
       "      <td>40423</td>\n",
       "      <td>South</td>\n",
       "      <td>High activity customer</td>\n",
       "      <td>Young_adult</td>\n",
       "      <td>Low-income</td>\n",
       "      <td>beverages</td>\n",
       "    </tr>\n",
       "  </tbody>\n",
       "</table>\n",
       "<p>5 rows × 35 columns</p>\n",
       "</div>"
      ],
      "text/plain": [
       "   order_id  user_id  order_number  order_day_of_week  order_hour_of_day  \\\n",
       "0   2539329        1             1                  2                  8   \n",
       "1   2398795        1             2                  3                  7   \n",
       "2    473747        1             3                  3                 12   \n",
       "3   2254736        1             4                  4                  7   \n",
       "4    431534        1             5                  4                 15   \n",
       "\n",
       "   days_since_last_order  product_id  add_to_cart_order  reordered  \\\n",
       "0                    0.0         196                  1          0   \n",
       "1                   15.0         196                  1          1   \n",
       "2                   21.0         196                  1          1   \n",
       "3                   29.0         196                  1          1   \n",
       "4                   28.0         196                  1          1   \n",
       "\n",
       "  product_name  ...  Age  Date Joined  No of dependants Marital Status Income  \\\n",
       "0         Soda  ...   31    2/17/2019                 3        married  40423   \n",
       "1         Soda  ...   31    2/17/2019                 3        married  40423   \n",
       "2         Soda  ...   31    2/17/2019                 3        married  40423   \n",
       "3         Soda  ...   31    2/17/2019                 3        married  40423   \n",
       "4         Soda  ...   31    2/17/2019                 3        married  40423   \n",
       "\n",
       "  Region       customer_activity  Age_category income_category  department  \n",
       "0  South  High activity customer   Young_adult      Low-income   beverages  \n",
       "1  South  High activity customer   Young_adult      Low-income   beverages  \n",
       "2  South  High activity customer   Young_adult      Low-income   beverages  \n",
       "3  South  High activity customer   Young_adult      Low-income   beverages  \n",
       "4  South  High activity customer   Young_adult      Low-income   beverages  \n",
       "\n",
       "[5 rows x 35 columns]"
      ]
     },
     "execution_count": 43,
     "metadata": {},
     "output_type": "execute_result"
    }
   ],
   "source": [
    "# Verifying result\n",
    "df_merged_2.head()"
   ]
  },
  {
   "cell_type": "code",
   "execution_count": 44,
   "id": "b8ce7028",
   "metadata": {},
   "outputs": [
    {
     "data": {
      "text/plain": [
       "Text(0.5, 1.0, 'Order Numbers by Department')"
      ]
     },
     "execution_count": 44,
     "metadata": {},
     "output_type": "execute_result"
    },
    {
     "data": {
      "image/png": "[encoded data removed]",
      "text/plain": [
       "<Figure size 640x480 with 1 Axes>"
      ]
     },
     "metadata": {},
     "output_type": "display_data"
    }
   ],
   "source": [
    "# Creating a bar chart to profile goods in the department column \n",
    "dept_bar_chart = df_merged_2['department'].value_counts().plot.bar()\n",
    "plt.title('Order Numbers by Department')"
   ]
  },
  {
   "cell_type": "code",
   "execution_count": 45,
   "id": "b4f5855d",
   "metadata": {},
   "outputs": [],
   "source": [
    "# Exporting the bar chart\n",
    "dept_bar_chart.figure.savefig(os.path.join(path, '04 Analysis','Visualizations', 'dept_bar_chart.png'))"
   ]
  },
  {
   "cell_type": "code",
   "execution_count": 46,
   "id": "85b3208c",
   "metadata": {},
   "outputs": [],
   "source": [
    "# To create a profile, we can aggregate some descriptive statistis for the department column \n",
    "crosstab_depts = df_merged_2.groupby('department').agg({'order_id':['count'],'days_since_last_order':['mean'],  'prices':['mean']})"
   ]
  },
  {
   "cell_type": "code",
   "execution_count": 47,
   "id": "5b3908cb",
   "metadata": {},
   "outputs": [
    {
     "data": {
      "text/html": [
       "<div>\n",
       "<style scoped>\n",
       "    .dataframe tbody tr th:only-of-type {\n",
       "        vertical-align: middle;\n",
       "    }\n",
       "\n",
       "    .dataframe tbody tr th {\n",
       "        vertical-align: top;\n",
       "    }\n",
       "\n",
       "    .dataframe thead tr th {\n",
       "        text-align: left;\n",
       "    }\n",
       "\n",
       "    .dataframe thead tr:last-of-type th {\n",
       "        text-align: right;\n",
       "    }\n",
       "</style>\n",
       "<table border=\"1\" class=\"dataframe\">\n",
       "  <thead>\n",
       "    <tr>\n",
       "      <th></th>\n",
       "      <th>order_id</th>\n",
       "      <th>days_since_last_order</th>\n",
       "      <th>prices</th>\n",
       "    </tr>\n",
       "    <tr>\n",
       "      <th></th>\n",
       "      <th>count</th>\n",
       "      <th>mean</th>\n",
       "      <th>mean</th>\n",
       "    </tr>\n",
       "    <tr>\n",
       "      <th>department</th>\n",
       "      <th></th>\n",
       "      <th></th>\n",
       "      <th></th>\n",
       "    </tr>\n",
       "  </thead>\n",
       "  <tbody>\n",
       "    <tr>\n",
       "      <th>alcohol</th>\n",
       "      <td>144627</td>\n",
       "      <td>9.331370</td>\n",
       "      <td>8.150699</td>\n",
       "    </tr>\n",
       "    <tr>\n",
       "      <th>babies</th>\n",
       "      <td>410392</td>\n",
       "      <td>9.335526</td>\n",
       "      <td>7.634399</td>\n",
       "    </tr>\n",
       "    <tr>\n",
       "      <th>bakery</th>\n",
       "      <td>1120828</td>\n",
       "      <td>10.227725</td>\n",
       "      <td>7.857482</td>\n",
       "    </tr>\n",
       "    <tr>\n",
       "      <th>beverages</th>\n",
       "      <td>2571901</td>\n",
       "      <td>10.206096</td>\n",
       "      <td>7.682556</td>\n",
       "    </tr>\n",
       "    <tr>\n",
       "      <th>breakfast</th>\n",
       "      <td>670850</td>\n",
       "      <td>10.388300</td>\n",
       "      <td>8.031647</td>\n",
       "    </tr>\n",
       "    <tr>\n",
       "      <th>bulk</th>\n",
       "      <td>33451</td>\n",
       "      <td>9.451048</td>\n",
       "      <td>8.346919</td>\n",
       "    </tr>\n",
       "    <tr>\n",
       "      <th>canned goods</th>\n",
       "      <td>1012074</td>\n",
       "      <td>10.672517</td>\n",
       "      <td>7.546660</td>\n",
       "    </tr>\n",
       "    <tr>\n",
       "      <th>dairy eggs</th>\n",
       "      <td>5177182</td>\n",
       "      <td>10.155186</td>\n",
       "      <td>33.114599</td>\n",
       "    </tr>\n",
       "    <tr>\n",
       "      <th>deli</th>\n",
       "      <td>1003834</td>\n",
       "      <td>10.431782</td>\n",
       "      <td>7.783347</td>\n",
       "    </tr>\n",
       "    <tr>\n",
       "      <th>dry goods pasta</th>\n",
       "      <td>822136</td>\n",
       "      <td>10.770432</td>\n",
       "      <td>7.349370</td>\n",
       "    </tr>\n",
       "    <tr>\n",
       "      <th>frozen</th>\n",
       "      <td>2121731</td>\n",
       "      <td>10.739897</td>\n",
       "      <td>7.733725</td>\n",
       "    </tr>\n",
       "    <tr>\n",
       "      <th>household</th>\n",
       "      <td>699857</td>\n",
       "      <td>10.968814</td>\n",
       "      <td>7.379951</td>\n",
       "    </tr>\n",
       "    <tr>\n",
       "      <th>international</th>\n",
       "      <td>255991</td>\n",
       "      <td>10.316078</td>\n",
       "      <td>7.678797</td>\n",
       "    </tr>\n",
       "    <tr>\n",
       "      <th>meat seafood</th>\n",
       "      <td>674781</td>\n",
       "      <td>10.505383</td>\n",
       "      <td>16.300034</td>\n",
       "    </tr>\n",
       "    <tr>\n",
       "      <th>missing</th>\n",
       "      <td>64768</td>\n",
       "      <td>9.659415</td>\n",
       "      <td>8.660655</td>\n",
       "    </tr>\n",
       "    <tr>\n",
       "      <th>other</th>\n",
       "      <td>34411</td>\n",
       "      <td>10.056842</td>\n",
       "      <td>6.961995</td>\n",
       "    </tr>\n",
       "    <tr>\n",
       "      <th>pantry</th>\n",
       "      <td>1782705</td>\n",
       "      <td>10.220150</td>\n",
       "      <td>8.014482</td>\n",
       "    </tr>\n",
       "    <tr>\n",
       "      <th>personal care</th>\n",
       "      <td>424306</td>\n",
       "      <td>10.604512</td>\n",
       "      <td>7.998744</td>\n",
       "    </tr>\n",
       "    <tr>\n",
       "      <th>pets</th>\n",
       "      <td>93060</td>\n",
       "      <td>10.938857</td>\n",
       "      <td>7.887489</td>\n",
       "    </tr>\n",
       "    <tr>\n",
       "      <th>produce</th>\n",
       "      <td>9079273</td>\n",
       "      <td>10.026070</td>\n",
       "      <td>7.980348</td>\n",
       "    </tr>\n",
       "    <tr>\n",
       "      <th>snacks</th>\n",
       "      <td>2766406</td>\n",
       "      <td>10.108421</td>\n",
       "      <td>4.275555</td>\n",
       "    </tr>\n",
       "  </tbody>\n",
       "</table>\n",
       "</div>"
      ],
      "text/plain": [
       "                order_id days_since_last_order     prices\n",
       "                   count                  mean       mean\n",
       "department                                               \n",
       "alcohol           144627              9.331370   8.150699\n",
       "babies            410392              9.335526   7.634399\n",
       "bakery           1120828             10.227725   7.857482\n",
       "beverages        2571901             10.206096   7.682556\n",
       "breakfast         670850             10.388300   8.031647\n",
       "bulk               33451              9.451048   8.346919\n",
       "canned goods     1012074             10.672517   7.546660\n",
       "dairy eggs       5177182             10.155186  33.114599\n",
       "deli             1003834             10.431782   7.783347\n",
       "dry goods pasta   822136             10.770432   7.349370\n",
       "frozen           2121731             10.739897   7.733725\n",
       "household         699857             10.968814   7.379951\n",
       "international     255991             10.316078   7.678797\n",
       "meat seafood      674781             10.505383  16.300034\n",
       "missing            64768              9.659415   8.660655\n",
       "other              34411             10.056842   6.961995\n",
       "pantry           1782705             10.220150   8.014482\n",
       "personal care     424306             10.604512   7.998744\n",
       "pets               93060             10.938857   7.887489\n",
       "produce          9079273             10.026070   7.980348\n",
       "snacks           2766406             10.108421   4.275555"
      ]
     },
     "execution_count": 47,
     "metadata": {},
     "output_type": "execute_result"
    }
   ],
   "source": [
    "crosstab_depts"
   ]
  },
  {
   "cell_type": "markdown",
   "id": "e3278b20",
   "metadata": {},
   "source": [
    "The mean value for the prices for the dairy eggs seem to be affected by the outlier values in the prices column. We might need to remove them."
   ]
  },
  {
   "cell_type": "code",
   "execution_count": null,
   "id": "c5d59cb5",
   "metadata": {},
   "outputs": [],
   "source": [
    "# To check for outliers in the data due to the position of the points\n",
    "df_merged_2.loc[df_merged_2['prices'] > 100]\n",
    "# This will return prices higher than 100"
   ]
  },
  {
   "cell_type": "code",
   "execution_count": null,
   "id": "03b187a1",
   "metadata": {},
   "outputs": [],
   "source": []
  }
 ],
 "metadata": {
  "kernelspec": {
   "display_name": "Python 3 (ipykernel)",
   "language": "python",
   "name": "python3"
  },
  "language_info": {
   "codemirror_mode": {
    "name": "ipython",
    "version": 3
   },
   "file_extension": ".py",
   "mimetype": "text/x-python",
   "name": "python",
   "nbconvert_exporter": "python",
   "pygments_lexer": "ipython3",
   "version": "3.11.3"
  }
 },
 "nbformat": 4,
 "nbformat_minor": 5
}
