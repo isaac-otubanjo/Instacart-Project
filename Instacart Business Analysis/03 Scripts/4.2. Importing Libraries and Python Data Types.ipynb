{
 "cells": [
  {
   "cell_type": "markdown",
   "id": "b29aa4d6",
   "metadata": {},
   "source": [
    "# 01. Importing libraries"
   ]
  },
  {
   "cell_type": "code",
   "execution_count": 1,
   "id": "fdaf4aaf",
   "metadata": {},
   "outputs": [],
   "source": [
    "# Import libraries\n",
    "import pandas as pd\n",
    "import numpy as np\n",
    "import os"
   ]
  },
  {
   "cell_type": "markdown",
   "id": "da452f1b",
   "metadata": {},
   "source": [
    "# 02. First Code(s)"
   ]
  },
  {
   "cell_type": "code",
   "execution_count": 16,
   "id": "2a5675d1",
   "metadata": {},
   "outputs": [],
   "source": [
    "x=50"
   ]
  },
  {
   "cell_type": "code",
   "execution_count": 35,
   "id": "655b7362",
   "metadata": {},
   "outputs": [],
   "source": [
    "z=0"
   ]
  },
  {
   "cell_type": "code",
   "execution_count": 34,
   "id": "4fe7c167",
   "metadata": {},
   "outputs": [],
   "source": [
    "y=50"
   ]
  },
  {
   "cell_type": "code",
   "execution_count": 38,
   "id": "ee3541eb",
   "metadata": {},
   "outputs": [],
   "source": [
    "q=8"
   ]
  },
  {
   "cell_type": "code",
   "execution_count": 39,
   "id": "4d49a83c",
   "metadata": {},
   "outputs": [],
   "source": [
    "r=58"
   ]
  },
  {
   "cell_type": "code",
   "execution_count": 36,
   "id": "3399a21b",
   "metadata": {},
   "outputs": [
    {
     "data": {
      "text/plain": [
       "100"
      ]
     },
     "execution_count": 36,
     "metadata": {},
     "output_type": "execute_result"
    }
   ],
   "source": [
    "x+y"
   ]
  },
  {
   "cell_type": "code",
   "execution_count": 37,
   "id": "03adc171",
   "metadata": {},
   "outputs": [
    {
     "data": {
      "text/plain": [
       "100"
      ]
     },
     "execution_count": 37,
     "metadata": {},
     "output_type": "execute_result"
    }
   ],
   "source": [
    "x+y-z"
   ]
  },
  {
   "cell_type": "code",
   "execution_count": 40,
   "id": "969b58cb",
   "metadata": {},
   "outputs": [
    {
     "data": {
      "text/plain": [
       "100"
      ]
     },
     "execution_count": 40,
     "metadata": {},
     "output_type": "execute_result"
    }
   ],
   "source": [
    "x-q+r"
   ]
  },
  {
   "cell_type": "code",
   "execution_count": 20,
   "id": "aebde986",
   "metadata": {},
   "outputs": [],
   "source": [
    "e=1.2"
   ]
  },
  {
   "cell_type": "code",
   "execution_count": 21,
   "id": "0a6d9a8e",
   "metadata": {},
   "outputs": [],
   "source": [
    "f=2.4"
   ]
  },
  {
   "cell_type": "code",
   "execution_count": 22,
   "id": "22633591",
   "metadata": {},
   "outputs": [
    {
     "data": {
      "text/plain": [
       "0.5"
      ]
     },
     "execution_count": 22,
     "metadata": {},
     "output_type": "execute_result"
    }
   ],
   "source": [
    "e/f"
   ]
  },
  {
   "cell_type": "code",
   "execution_count": 23,
   "id": "1102ac8f",
   "metadata": {},
   "outputs": [
    {
     "data": {
      "text/plain": [
       "2.0"
      ]
     },
     "execution_count": 23,
     "metadata": {},
     "output_type": "execute_result"
    }
   ],
   "source": [
    "f/e"
   ]
  },
  {
   "cell_type": "code",
   "execution_count": 24,
   "id": "0e45deb1",
   "metadata": {},
   "outputs": [],
   "source": [
    "c = 'conca'"
   ]
  },
  {
   "cell_type": "code",
   "execution_count": 25,
   "id": "d3dcf610",
   "metadata": {},
   "outputs": [],
   "source": [
    "t = 'tenate'"
   ]
  },
  {
   "cell_type": "code",
   "execution_count": 26,
   "id": "968f438b",
   "metadata": {},
   "outputs": [
    {
     "data": {
      "text/plain": [
       "'concatenate'"
      ]
     },
     "execution_count": 26,
     "metadata": {},
     "output_type": "execute_result"
    }
   ],
   "source": [
    "c + t"
   ]
  },
  {
   "cell_type": "code",
   "execution_count": 29,
   "id": "50a7e9d0",
   "metadata": {},
   "outputs": [],
   "source": [
    "a = 'Careerfoundry is '\n",
    "b = 'a good '\n",
    "d = 'foundation for '\n",
    "g = 'technical knowledge '"
   ]
  },
  {
   "cell_type": "code",
   "execution_count": 30,
   "id": "33523ad5",
   "metadata": {},
   "outputs": [
    {
     "data": {
      "text/plain": [
       "'Careerfoundry is a good foundation for technical knowledge '"
      ]
     },
     "execution_count": 30,
     "metadata": {},
     "output_type": "execute_result"
    }
   ],
   "source": [
    "a+b+d+g"
   ]
  },
  {
   "cell_type": "code",
   "execution_count": 31,
   "id": "14340b06",
   "metadata": {},
   "outputs": [],
   "source": [
    "h = 'I love '\n",
    "i = 'Data Analytics'"
   ]
  },
  {
   "cell_type": "code",
   "execution_count": 32,
   "id": "e796e093",
   "metadata": {},
   "outputs": [
    {
     "data": {
      "text/plain": [
       "'I love Data Analytics'"
      ]
     },
     "execution_count": 32,
     "metadata": {},
     "output_type": "execute_result"
    }
   ],
   "source": [
    "h+i"
   ]
  },
  {
   "cell_type": "markdown",
   "id": "9d409cdd",
   "metadata": {},
   "source": [
    "# Bonus Task"
   ]
  },
  {
   "cell_type": "code",
   "execution_count": 33,
   "id": "24765f8b",
   "metadata": {},
   "outputs": [
    {
     "data": {
      "text/plain": [
       "'I love I love I love I love I love I love I love I love I love I love I love I love I love I love I love I love I love I love I love I love I love I love I love I love I love I love I love I love I love I love I love I love I love I love I love I love I love I love I love I love I love I love I love I love I love I love I love I love I love I love I love I love I love I love I love I love I love I love I love I love I love I love I love I love I love I love I love I love I love I love I love I love I love I love I love I love I love I love I love I love I love I love I love I love I love I love I love I love I love I love I love I love I love I love I love I love I love I love I love I love '"
      ]
     },
     "execution_count": 33,
     "metadata": {},
     "output_type": "execute_result"
    }
   ],
   "source": [
    "h * 100"
   ]
  },
  {
   "cell_type": "code",
   "execution_count": null,
   "id": "6d8e6969",
   "metadata": {},
   "outputs": [],
   "source": []
  }
 ],
 "metadata": {
  "kernelspec": {
   "display_name": "Python 3 (ipykernel)",
   "language": "python",
   "name": "python3"
  },
  "language_info": {
   "codemirror_mode": {
    "name": "ipython",
    "version": 3
   },
   "file_extension": ".py",
   "mimetype": "text/x-python",
   "name": "python",
   "nbconvert_exporter": "python",
   "pygments_lexer": "ipython3",
   "version": "3.11.3"
  }
 },
 "nbformat": 4,
 "nbformat_minor": 5
}
